{
 "cells": [
  {
   "cell_type": "markdown",
   "metadata": {},
   "source": [
    "# String Operations Lab\n",
    "\n",
    "**Before your start:**\n",
    "\n",
    "- Read the README.md file\n",
    "- Comment as much as you can and use the resources in the README.md file\n",
    "- Happy learning!"
   ]
  },
  {
   "cell_type": "code",
   "execution_count": 25,
   "metadata": {},
   "outputs": [],
   "source": [
    "import re"
   ]
  },
  {
   "cell_type": "markdown",
   "metadata": {},
   "source": [
    "# Challenge 1 - Combining Strings\n",
    "\n",
    "Combining strings is an important skill to acquire. There are multiple ways of combining strings in Python, as well as combining strings with variables. We will explore this in the first challenge. In the cell below, combine the strings in the list and add spaces between the strings (do not add a space after the last string). Insert a period after the last string."
   ]
  },
  {
   "cell_type": "code",
   "execution_count": 4,
   "metadata": {},
   "outputs": [
    {
     "name": "stdout",
     "output_type": "stream",
     "text": [
      "Durante un tiempo no estuvo segura de si su marido era su marido.\n"
     ]
    }
   ],
   "source": [
    "str_list = ['Durante', 'un', 'tiempo', 'no', 'estuvo', 'segura', 'de', 'si', 'su', 'marido', 'era', 'su', 'marido']\n",
    "# Your code here:\n",
    "\n",
    "print(\" \".join(str_list)+ \".\")"
   ]
  },
  {
   "cell_type": "markdown",
   "metadata": {},
   "source": [
    "In the cell below, use the list of strings to create a grocery list. Start the list with the string `Grocery list: ` and include a comma and a space between each item except for the last one. Include a period at the end. Only include foods in the list that start with the letter 'b' and ensure all foods are lower case."
   ]
  },
  {
   "cell_type": "code",
   "execution_count": 7,
   "metadata": {},
   "outputs": [
    {
     "name": "stdout",
     "output_type": "stream",
     "text": [
      "Grocery list: bananas, bread, brownie mix and broccoli.\n"
     ]
    }
   ],
   "source": [
    "food_list = ['Bananas', 'Chocolate', 'bread', 'diapers', 'Ice Cream', 'Brownie Mix', 'broccoli']\n",
    "# Your code here:\n",
    "\n",
    "grocery_list = [\"Grocery list: \"]\n",
    "\n",
    "for word in food_list:\n",
    "    food = word.lower()\n",
    "    if food[0] == 'b':\n",
    "        grocery_list.append(food)\n",
    "        \n",
    "grocerylist = grocery_list[0] + ', '.join(grocery_list[1:4]) + ' and ' + grocery_list[-1] + '.'\n",
    "print(grocerylist)"
   ]
  },
  {
   "cell_type": "markdown",
   "metadata": {},
   "source": [
    "In the cell below, write a function that computes the area of a circle using its radius. Compute the area of the circle and insert the radius and the area between the two strings. Make sure to include spaces between the variable and the strings. \n",
    "\n",
    "Note: You can use the techniques we have learned so far or use f-strings. F-strings allow us to embed code inside strings. You can read more about f-strings [here](https://www.python.org/dev/peps/pep-0498/)."
   ]
  },
  {
   "cell_type": "code",
   "execution_count": 10,
   "metadata": {},
   "outputs": [
    {
     "name": "stdout",
     "output_type": "stream",
     "text": [
      "The area of the circle with radius: 4.5 is: 63.61725123519331\n"
     ]
    }
   ],
   "source": [
    "import math\n",
    "\n",
    "string1 = \"The area of the circle with radius:\"\n",
    "string2  = \"is:\"\n",
    "radius = 4.5\n",
    "\n",
    "def area(x, pi = math.pi):\n",
    "    # This function takes a radius and returns the area of a circle. We also pass a default value for pi.\n",
    "    # Input: Float (and default value for pi)\n",
    "    # Output: Float\n",
    "    \n",
    "    # Sample input: 5.0\n",
    "    # Sample Output: 78.53981633\n",
    "    \n",
    "    # Your code here:\n",
    "    return pi * (x**2)\n",
    "    \n",
    "# Your output string here:\n",
    "print('%s %s %s %s' %(string1,radius,string2,area(radius)))\n"
   ]
  },
  {
   "cell_type": "markdown",
   "metadata": {},
   "source": [
    "# Challenge 2 - Splitting Strings\n",
    "\n",
    "We have first looked at combining strings into one long string. There are times where we need to do the opposite and split the string into smaller components for further analysis. \n",
    "\n",
    "In the cell below, split the string into a list of strings using the space delimiter. Count the frequency of each word in the string in a dictionary. Strip the periods, line breaks and commas from the text. Make sure to remove empty strings from your dictionary."
   ]
  },
  {
   "cell_type": "code",
   "execution_count": 24,
   "metadata": {},
   "outputs": [
    {
     "name": "stdout",
     "output_type": "stream",
     "text": [
      "['Some say the world will end in fire,', 'Some say in ice.', 'From what I’ve tasted of desire', 'I hold with those who favor fire.', 'But if it had to perish twice,', 'I think I know enough of hate', 'To say that for destruction ice', 'Is also great', 'And would suffice.']\n",
      "['S', 'o', 'm', 'e', 's', 'a', 'y', 't', 'h', 'e', 'w', 'o', 'r', 'l', 'd', 'w', 'i', 'l', 'l', 'e', 'n', 'd', 'i', 'n', 'f', 'i', 'r', 'e', '', 'S', 'o', 'm', 'e', 's', 'a', 'y', 'i', 'n', 'i', 'c', 'e', '', 'F', 'r', 'o', 'm', 'w', 'h', 'a', 't', 'I', '’', 'v', 'e', 't', 'a', 's', 't', 'e', 'd', 'o', 'f', 'd', 'e', 's', 'i', 'r', 'e', 'I', 'h', 'o', 'l', 'd', 'w', 'i', 't', 'h', 't', 'h', 'o', 's', 'e', 'w', 'h', 'o', 'f', 'a', 'v', 'o', 'r', 'f', 'i', 'r', 'e', '', 'B', 'u', 't', 'i', 'f', 'i', 't', 'h', 'a', 'd', 't', 'o', 'p', 'e', 'r', 'i', 's', 'h', 't', 'w', 'i', 'c', 'e', '', 'I', 't', 'h', 'i', 'n', 'k', 'I', 'k', 'n', 'o', 'w', 'e', 'n', 'o', 'u', 'g', 'h', 'o', 'f', 'h', 'a', 't', 'e', 'T', 'o', 's', 'a', 'y', 't', 'h', 'a', 't', 'f', 'o', 'r', 'd', 'e', 's', 't', 'r', 'u', 'c', 't', 'i', 'o', 'n', 'i', 'c', 'e', 'I', 's', 'a', 'l', 's', 'o', 'g', 'r', 'e', 'a', 't', 'A', 'n', 'd', 'w', 'o', 'u', 'l', 'd', 's', 'u', 'f', 'f', 'i', 'c', 'e', '']\n",
      "{'S': 1, 'o': 1, 'm': 1, 'e': 1, 's': 1, 'a': 1, 'y': 1, 't': 1, 'h': 1, 'w': 1, 'r': 1, 'l': 1, 'd': 1, 'i': 1, 'n': 1, 'f': 1, '': 1, 'c': 1, 'F': 1, 'I': 1, '’': 1, 'v': 1, 'B': 1, 'u': 1, 'p': 1, 'k': 1, 'g': 1, 'T': 1, 'A': 1}\n"
     ]
    }
   ],
   "source": [
    "poem = \"\"\"Some say the world will end in fire,\n",
    "Some say in ice.\n",
    "From what I’ve tasted of desire\n",
    "I hold with those who favor fire.\n",
    "But if it had to perish twice,\n",
    "I think I know enough of hate\n",
    "To say that for destruction ice\n",
    "Is also great\n",
    "And would suffice.\"\"\"\n",
    "\n",
    "# Your code here:\n",
    "poem_list = poem.split('\\n')\n",
    "print(poem_list)\n",
    "\n",
    "new_poem = []\n",
    "\n",
    "for element in poem_list:\n",
    "    new_list = element.split(' ')\n",
    "    for words in new_list:\n",
    "        for letter in words:\n",
    "            if ',' in letter:\n",
    "                new_word = letter.replace(',','')\n",
    "                new_poem.append(new_word)\n",
    "            elif '.' in letter:\n",
    "                new_word = letter.replace('.','')\n",
    "                new_poem.append(new_word)\n",
    "            else:\n",
    "                new_poem.append(letter)\n",
    "print(new_poem)\n",
    "\n",
    "\n",
    "count_letters= {}\n",
    "\n",
    "for letter in new_poem:\n",
    "    if letter not in count_letters:\n",
    "        count_letters[letter] = 1\n",
    "    else:\n",
    "        count_letters[letter] =+1\n",
    "print(count_letters)"
   ]
  },
  {
   "cell_type": "code",
   "execution_count": null,
   "metadata": {},
   "outputs": [],
   "source": []
  },
  {
   "cell_type": "markdown",
   "metadata": {},
   "source": [
    "In the cell below, find all the words that appear in the text and do not appear in the blacklist. You must parse the string but can choose any data structure you wish for the words that do not appear in the blacklist. Remove all non letter characters and convert all words to lower case."
   ]
  },
  {
   "cell_type": "code",
   "execution_count": 28,
   "metadata": {},
   "outputs": [
    {
     "name": "stdout",
     "output_type": "stream",
     "text": [
      "['i', 'was', 'angry', 'with', 'my', 'friend;', 'i', 'told', 'my', 'wrath', 'my', 'wrath', 'did', 'end', 'i', 'was', 'angry', 'with', 'my', 'foe:', 'i', 'told', 'not', 'my', 'wrath', 'did', 'grow', 'and', 'i', 'waterd', 'fears', 'night', '&', 'morning', 'with', 'my', 'tears:', 'and', 'i', 'sunned', 'with', 'smiles', 'and', 'with', 'soft', 'deceitful', 'wiles', 'and', 'grew', 'both', 'day', 'night', 'till', 'bore', 'apple', 'bright', 'and', 'my', 'foe', 'beheld', 'shine', 'and', 'he', 'knew', 'that', 'was', 'mine', 'and', 'into', 'my', 'garden', 'stole', 'when', 'night', 'had', 'veild', 'pole;', 'in', 'morning', 'glad', 'i', 'see;', 'my', 'foe', 'outstretched', 'beneath', 'tree']\n"
     ]
    }
   ],
   "source": [
    "blacklist = ['and', 'as', 'an', 'a', 'the', 'in', 'it']\n",
    "\n",
    "poem = \"\"\"I was angry with my friend; \n",
    "I told my wrath, my wrath did end.\n",
    "I was angry with my foe: \n",
    "I told it not, my wrath did grow. \n",
    "\n",
    "And I waterd it in fears,\n",
    "Night & morning with my tears: \n",
    "And I sunned it with smiles,\n",
    "And with soft deceitful wiles. \n",
    "\n",
    "And it grew both day and night. \n",
    "Till it bore an apple bright. \n",
    "And my foe beheld it shine,\n",
    "And he knew that it was mine. \n",
    "\n",
    "And into my garden stole, \n",
    "When the night had veild the pole; \n",
    "In the morning glad I see; \n",
    "My foe outstretched beneath the tree.\"\"\"\n",
    "\n",
    "# Your code here:\n",
    "poem_list = poem.split('\\n')\n",
    "\n",
    "\n",
    "new_poem = []\n",
    "\n",
    "for element in poem_list:\n",
    "    new_list = (element.split(' '))\n",
    "    for words in new_list:\n",
    "        if words in blacklist:\n",
    "            continue\n",
    "        elif len(words) > 0:\n",
    "            word = words.lower()\n",
    "            if ',' in word:\n",
    "                new_word = (word.replace(',',''))\n",
    "                new_poem.append(new_word)\n",
    "            elif '.' in words:\n",
    "                new_word = (word.replace('.',''))\n",
    "                new_poem.append(new_word)\n",
    "            else:\n",
    "                new_poem.append(word)\n",
    "\n",
    "\n",
    "        \n",
    "print(new_poem)"
   ]
  },
  {
   "cell_type": "markdown",
   "metadata": {},
   "source": [
    "# Challenge 3 - Regular Expressions\n",
    "\n",
    "Sometimes, we would like to perform more complex manipulations of our string. This is where regular expressions come in handy. In the cell below, return all characters that are upper case from the string specified below."
   ]
  },
  {
   "cell_type": "code",
   "execution_count": 31,
   "metadata": {},
   "outputs": [
    {
     "name": "stdout",
     "output_type": "stream",
     "text": [
      "['T', 'P']\n"
     ]
    }
   ],
   "source": [
    "import re\n",
    "\n",
    "poem = \"\"\"The apparition of these faces in the crowd;\n",
    "Petals on a wet, black bough.\"\"\"\n",
    "\n",
    "# Your code here:\n",
    "print(re.findall('[A-Z]', poem))"
   ]
  },
  {
   "cell_type": "markdown",
   "metadata": {},
   "source": [
    "In the cell below, filter the list provided and return all elements of the list containing a number. To filter the list, use the `re.search` function. Check if the function does not return `None`. You can read more about the `re.search` function [here](https://docs.python.org/3/library/re.html)."
   ]
  },
  {
   "cell_type": "code",
   "execution_count": null,
   "metadata": {},
   "outputs": [],
   "source": [
    "data = ['123abc', 'abc123', 'JohnSmith1', 'ABBY4', 'JANE']\n",
    "\n",
    "# Your code here:\n",
    "re.search()"
   ]
  },
  {
   "cell_type": "markdown",
   "metadata": {},
   "source": [
    "# Bonus Challenge - Regular Expressions II\n",
    "\n",
    "In the cell below, filter the list provided to keep only strings containing at least one digit and at least one lower case letter. As in the previous question, use the `re.search` function and check that the result is not `None`.\n",
    "\n",
    "To read more about regular expressions, check out [this link](https://developers.google.com/edu/python/regular-expressions)."
   ]
  },
  {
   "cell_type": "code",
   "execution_count": 32,
   "metadata": {},
   "outputs": [
    {
     "name": "stdout",
     "output_type": "stream",
     "text": [
      "123abc\n",
      "abc123\n",
      "JohnSmith1\n",
      "ABBY4\n"
     ]
    }
   ],
   "source": [
    "data = ['123abc', 'abc123', 'JohnSmith1', 'ABBY4', 'JANE']\n",
    "# Your code here:\n",
    "for element in data:\n",
    "    result = re.search(r'\\d',element)\n",
    "    if result != None:\n",
    "        print(element)"
   ]
  }
 ],
 "metadata": {
  "kernelspec": {
   "display_name": "Python 3",
   "language": "python",
   "name": "python3"
  },
  "language_info": {
   "codemirror_mode": {
    "name": "ipython",
    "version": 3
   },
   "file_extension": ".py",
   "mimetype": "text/x-python",
   "name": "python",
   "nbconvert_exporter": "python",
   "pygments_lexer": "ipython3",
   "version": "3.9.5"
  }
 },
 "nbformat": 4,
 "nbformat_minor": 2
}
